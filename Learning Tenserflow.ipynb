{
 "cells": [
  {
   "cell_type": "markdown",
   "id": "a72f37fd",
   "metadata": {},
   "source": [
    "Learning Tensorflow\n",
    "\n",
    "2023.3"
   ]
  },
  {
   "cell_type": "markdown",
   "id": "f8d8af74",
   "metadata": {},
   "source": [
    "Import packages: \n",
    "\n",
    "Math example in Jupyter: $\\alpha, \\beta, \\int_{}xdx, \\sum_{i=1}^{10}x_{i}$"
   ]
  },
  {
   "cell_type": "code",
   "execution_count": 65,
   "id": "6cc14c8d",
   "metadata": {},
   "outputs": [],
   "source": [
    "import tensorflow as tf\n",
    "import numpy as np"
   ]
  },
  {
   "cell_type": "markdown",
   "id": "7d9113c9",
   "metadata": {},
   "source": [
    "Creating Variables:"
   ]
  },
  {
   "cell_type": "code",
   "execution_count": 34,
   "id": "b61696bb",
   "metadata": {},
   "outputs": [],
   "source": [
    "s=tf.Variable(\"hi, what's up\")\n",
    "x=tf.Variable(114514)\n",
    "y=tf.Variable(3.14159,tf.float32)\n",
    "tensor1=tf.Variable([\"In memoriam\"],tf.string)\n",
    "tensor2=tf.Variable([[\"wtf\",\"tf\",\"\"],[\"2\",\"4\",\"43.4343\"]],tf.string)"
   ]
  },
  {
   "cell_type": "code",
   "execution_count": 35,
   "id": "3ab7434e",
   "metadata": {},
   "outputs": [
    {
     "name": "stdout",
     "output_type": "stream",
     "text": [
      "<tf.Variable 'Variable:0' shape=() dtype=string, numpy=b\"hi, what's up\">\n",
      "<tf.Variable 'Variable:0' shape=() dtype=int32, numpy=114514>\n",
      "<tf.Variable 'Variable:0' shape=() dtype=float32, numpy=3.14159>\n",
      "<tf.Variable 'Variable:0' shape=(1,) dtype=string, numpy=array([b'In memoriam'], dtype=object)>\n",
      "<tf.Variable 'Variable:0' shape=(2, 3) dtype=string, numpy=\n",
      "array([[b'wtf', b'tf', b''],\n",
      "       [b'2', b'4', b'43.4343']], dtype=object)>\n"
     ]
    }
   ],
   "source": [
    "print(s)\n",
    "print(x)\n",
    "print(y)\n",
    "print(tensor1)\n",
    "print(tensor2)"
   ]
  },
  {
   "cell_type": "markdown",
   "id": "21e3b17f",
   "metadata": {},
   "source": [
    "Output:\n",
    "\n",
    "<tf.Variable 'Variable:0' shape=() dtype=string, numpy=b\"hi, what's up\">\n",
    "\n",
    "<tf.Variable 'Variable:0' shape=() dtype=int32, numpy=114514>\n",
    "\n",
    "<tf.Variable 'Variable:0' shape=() dtype=float32, numpy=3.14159>\n",
    "\n",
    "<tf.Variable 'Variable:0' shape=(1,) dtype=string, numpy=array([b'In memoriam'], dtype=object)>\n",
    "\n",
    "<tf.Variable 'Variable:0' shape=(2,) dtype=string, numpy=array([b'wtf', b'tf'], dtype=object)>"
   ]
  },
  {
   "cell_type": "code",
   "execution_count": 36,
   "id": "6bb956fe",
   "metadata": {},
   "outputs": [
    {
     "name": "stdout",
     "output_type": "stream",
     "text": [
      "()\n",
      "(1,)\n",
      "(2, 3)\n",
      "tf.Tensor(0, shape=(), dtype=int32)\n",
      "tf.Tensor(1, shape=(), dtype=int32)\n",
      "tf.Tensor(2, shape=(), dtype=int32)\n"
     ]
    }
   ],
   "source": [
    "print(s.shape)\n",
    "print(tensor1.shape)\n",
    "print(tensor2.shape)\n",
    "print(tf.rank(s))\n",
    "print(tf.rank(tensor1))\n",
    "print(tf.rank(tensor2))"
   ]
  },
  {
   "cell_type": "markdown",
   "id": "4e1bbae7",
   "metadata": {},
   "source": [
    "Changing Variables"
   ]
  },
  {
   "cell_type": "code",
   "execution_count": 39,
   "id": "0d9a272d",
   "metadata": {},
   "outputs": [
    {
     "name": "stdout",
     "output_type": "stream",
     "text": [
      "tf.Tensor(\n",
      "[[[1. 1. 1.]\n",
      "  [1. 1. 1.]]], shape=(1, 2, 3), dtype=float32)\n"
     ]
    }
   ],
   "source": [
    "tensor3=tf.ones([1,2,3])\n",
    "print(tensor3)"
   ]
  },
  {
   "cell_type": "code",
   "execution_count": 41,
   "id": "c9a4c765",
   "metadata": {},
   "outputs": [
    {
     "name": "stdout",
     "output_type": "stream",
     "text": [
      "tf.Tensor(\n",
      "[[[1. 1. 1. 1. 1. 1. 1. 1.]\n",
      "  [1. 1. 1. 1. 1. 1. 1. 1.]\n",
      "  [1. 1. 1. 1. 1. 1. 1. 1.]\n",
      "  [1. 1. 1. 1. 1. 1. 1. 1.]\n",
      "  [1. 1. 1. 1. 1. 1. 1. 1.]\n",
      "  [1. 1. 1. 1. 1. 1. 1. 1.]]\n",
      "\n",
      " [[1. 1. 1. 1. 1. 1. 1. 1.]\n",
      "  [1. 1. 1. 1. 1. 1. 1. 1.]\n",
      "  [1. 1. 1. 1. 1. 1. 1. 1.]\n",
      "  [1. 1. 1. 1. 1. 1. 1. 1.]\n",
      "  [1. 1. 1. 1. 1. 1. 1. 1.]\n",
      "  [1. 1. 1. 1. 1. 1. 1. 1.]]\n",
      "\n",
      " [[1. 1. 1. 1. 1. 1. 1. 1.]\n",
      "  [1. 1. 1. 1. 1. 1. 1. 1.]\n",
      "  [1. 1. 1. 1. 1. 1. 1. 1.]\n",
      "  [1. 1. 1. 1. 1. 1. 1. 1.]\n",
      "  [1. 1. 1. 1. 1. 1. 1. 1.]\n",
      "  [1. 1. 1. 1. 1. 1. 1. 1.]]], shape=(3, 6, 8), dtype=float32)\n"
     ]
    }
   ],
   "source": [
    "tensor3=tf.ones([3,6,8])\n",
    "print(tensor3)"
   ]
  },
  {
   "cell_type": "code",
   "execution_count": 57,
   "id": "7e79d903",
   "metadata": {},
   "outputs": [
    {
     "name": "stdout",
     "output_type": "stream",
     "text": [
      "<tf.Variable 'Variable:0' shape=(2, 3) dtype=int32, numpy=\n",
      "array([[5, 2, 3],\n",
      "       [6, 4, 8]], dtype=int32)>\n"
     ]
    }
   ],
   "source": [
    "tensor3=tf.Variable([[5,2,3],[6,4,8]])\n",
    "print(tensor3)"
   ]
  },
  {
   "cell_type": "code",
   "execution_count": 60,
   "id": "5ee10223",
   "metadata": {},
   "outputs": [
    {
     "name": "stdout",
     "output_type": "stream",
     "text": [
      "tf.Tensor([5 2 3 6 4 8], shape=(6,), dtype=int32)\n",
      "tf.Tensor([[5 2 3 6 4 8]], shape=(1, 6), dtype=int32)\n"
     ]
    }
   ],
   "source": [
    "tensor3=tf.reshape(tensor3, [6])\n",
    "print(tensor3)\n",
    "tensor3=tf.reshape(tensor3, [1,-1])\n",
    "print(tensor3)"
   ]
  },
  {
   "cell_type": "markdown",
   "id": "2008c226",
   "metadata": {},
   "source": [
    "Slicing Tensor"
   ]
  },
  {
   "cell_type": "code",
   "execution_count": 83,
   "id": "1a83bae9",
   "metadata": {},
   "outputs": [
    {
     "name": "stdout",
     "output_type": "stream",
     "text": [
      "[[0, 2, 1, 5, 9], [4, 6, 5, 9, 2], [8, 10, 9, 2, 6], [1, 3, 2, 6, 10]]\n",
      "[[ 0  2  1  5  9]\n",
      " [ 4  6  5  9  2]\n",
      " [ 8 10  9  2  6]\n",
      " [ 1  3  2  6 10]] \n",
      "shape: (4, 5)\n"
     ]
    }
   ],
   "source": [
    "matrix=[[(i*i+(i*i*i)%10+4*j)%11 for i in range(5)] for j in range(4)]\n",
    "print(matrix)\n",
    "matrix=np.array(matrix)\n",
    "print(matrix,\"\\nshape:\",matrix.shape)"
   ]
  },
  {
   "cell_type": "code",
   "execution_count": 84,
   "id": "08edffd4",
   "metadata": {},
   "outputs": [
    {
     "name": "stdout",
     "output_type": "stream",
     "text": [
      "<tf.Variable 'Variable:0' shape=(4, 5) dtype=int64, numpy=\n",
      "array([[ 0,  2,  1,  5,  9],\n",
      "       [ 4,  6,  5,  9,  2],\n",
      "       [ 8, 10,  9,  2,  6],\n",
      "       [ 1,  3,  2,  6, 10]])>\n",
      "(4, 5)\n"
     ]
    }
   ],
   "source": [
    "matrx=tf.Variable(matrix)\n",
    "print(matrx)\n",
    "print(matrx.shape)"
   ]
  },
  {
   "cell_type": "code",
   "execution_count": 85,
   "id": "40611066",
   "metadata": {},
   "outputs": [
    {
     "name": "stdout",
     "output_type": "stream",
     "text": [
      "tf.Tensor(\n",
      "[[0 2 1 5 9]\n",
      " [4 6 5 9 2]], shape=(2, 5), dtype=int64)\n"
     ]
    }
   ],
   "source": [
    "x1=matrx[0:2]\n",
    "print(x1)"
   ]
  },
  {
   "cell_type": "code",
   "execution_count": 86,
   "id": "88ce6e9a",
   "metadata": {},
   "outputs": [
    {
     "name": "stdout",
     "output_type": "stream",
     "text": [
      "tf.Tensor(2, shape=(), dtype=int64)\n"
     ]
    }
   ],
   "source": [
    "x2=matrx[2,3]\n",
    "print(x2)"
   ]
  },
  {
   "cell_type": "code",
   "execution_count": 96,
   "id": "a958bc88",
   "metadata": {},
   "outputs": [
    {
     "name": "stdout",
     "output_type": "stream",
     "text": [
      "tf.Tensor(\n",
      "[[ 0  2  1  5  9]\n",
      " [ 4  6  5  9  2]\n",
      " [ 8 10  9  2  6]\n",
      " [ 1  3  2  6 10]], shape=(4, 5), dtype=int64)\n",
      "tf.Tensor([ 2  6 10  3], shape=(4,), dtype=int64)\n",
      "tf.Tensor([ 8 10  9  2  6], shape=(5,), dtype=int64)\n"
     ]
    }
   ],
   "source": [
    "x3=matrx[:,:]\n",
    "print(x3)\n",
    "x3=matrx[:,1]\n",
    "print(x3)\n",
    "x3=matrx[[2]]\n",
    "print(x3)"
   ]
  }
 ],
 "metadata": {
  "kernelspec": {
   "display_name": "Python 3 (ipykernel)",
   "language": "python",
   "name": "python3"
  },
  "language_info": {
   "codemirror_mode": {
    "name": "ipython",
    "version": 3
   },
   "file_extension": ".py",
   "mimetype": "text/x-python",
   "name": "python",
   "nbconvert_exporter": "python",
   "pygments_lexer": "ipython3",
   "version": "3.9.15"
  }
 },
 "nbformat": 4,
 "nbformat_minor": 5
}
